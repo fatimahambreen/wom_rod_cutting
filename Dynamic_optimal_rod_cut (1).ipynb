{
 "cells": [
  {
   "cell_type": "markdown",
   "metadata": {},
   "source": [
    "# Dynamic Optimal Rod Cutting Algorithm"
   ]
  },
  {
   "cell_type": "markdown",
   "metadata": {},
   "source": [
    "#### In this simulation experiment, I have evaluated two rod cutting strategies. As length remaining of bar and billet length changes and depends on several parameters we have to run our algorithm dynamically to determine optimal cut strategy. In this experiment we have shown how the dynamic rod cutting strategy maximizes profit."
   ]
  },
  {
   "cell_type": "code",
   "execution_count": 1,
   "metadata": {},
   "outputs": [
    {
     "name": "stdout",
     "output_type": "stream",
     "text": [
      "[0, 0, 0, 4, 5, 7, 10, 10, 10, 10, 10, 15]\n",
      "12\n"
     ]
    }
   ],
   "source": [
    "#initialization of libraries and bar_price array \n",
    "import numpy as np\n",
    "from matplotlib import pyplot as plt\n",
    "import math as m\n",
    "#creating bar prices\n",
    "bar_price =[0,0,0,4,5,7,10,10,10,10,10,15]\n",
    "print(bar_price)\n",
    "print(len(bar_price))"
   ]
  },
  {
   "cell_type": "code",
   "execution_count": 2,
   "metadata": {},
   "outputs": [
    {
     "name": "stdout",
     "output_type": "stream",
     "text": [
      "13\n",
      "13.0\n",
      "280.0\n",
      "0\n",
      "0\n",
      "1170\n"
     ]
    }
   ],
   "source": [
    "_rod_length= 1000 #in m for testing purpose\n",
    "_total_cuts = 1000/72\n",
    "print(_total_cuts)\n",
    "_total_sections = m.ceil(_total_cuts)\n",
    "print(_total_sections)\n",
    "_last_three_cut_length = _rod_length - ((_total_sections-3)*72)\n",
    "print(_last_three_cut_length) \n",
    "def greedy_value():\n",
    "    remaining_value= _total_cuts - int(_total_cuts)\n",
    "    length_m = 72*remaining_value\n",
    "    print(length_m)\n",
    "    profit = int(_total_cuts)*6*bar_price[11] + int(length_m/12)*bar_price[11] \n",
    "    rest_length_scrap= length_m  - int(length_m/12)*12\n",
    "    print (rest_length_scrap)\n",
    "    profit = profit + bar_price[int(rest_length_scrap)]\n",
    "    return profit\n",
    "#we have to apply our optimizations in last three cuts\n",
    "print(greedy_value())\n",
    "\n",
    "\n"
   ]
  },
  {
   "cell_type": "code",
   "execution_count": 6,
   "metadata": {},
   "outputs": [],
   "source": [
    "# Two different algos for cutting strategy\n",
    "memoized_array = np.zeros(12)\n",
    "def dynamic(_cut_length_p):\n",
    "    if(_cut_length_p<=0):\n",
    "        return 0\n",
    "    max_p=-24500\n",
    "    for i in range(12):\n",
    "        if(memoized_array[i]==0):\n",
    "            max_p=max(max_p,bar_price[i]+dynamic(_cut_length_p-i-1))\n",
    "        else:\n",
    "            break;\n",
    "    if(memoized_array[i]==0):\n",
    "        memoized_array[i]=max_p\n",
    "    return max_p\n",
    "def greedy(cut_length):\n",
    "    _12_m = int(cut_length/12)*bar_price[11]\n",
    "    rest_len = cut_length - int(cut_length/12)*12\n",
    "    if(rest_len==0):\n",
    "        _profit= _12_m\n",
    "    else:\n",
    "        _profit= _12_m + bar_price[int(rest_len)-1]\n",
    "    return _profit\n",
    "\n",
    "#-----------Test Bed------------------\n",
    "#testing for different set of values\n",
    "_profit_array_greedy =[]\n",
    "_profit_array_dynamic=[]\n",
    "for i in range(1,20):\n",
    "    _profit_array_greedy.append(greedy(i))\n",
    "    _profit_array_dynamic.append(dynamic(i))\n",
    "    \n",
    "        \n",
    "\n",
    "        \n",
    "        \n",
    "    "
   ]
  },
  {
   "cell_type": "markdown",
   "metadata": {},
   "source": [
    "# Visualizing Results"
   ]
  },
  {
   "cell_type": "code",
   "execution_count": 7,
   "metadata": {},
   "outputs": [
    {
     "name": "stdout",
     "output_type": "stream",
     "text": [
      "[15, 10, 10, 10, 14, 15, 17, 20, 20, 20, 21, 24, 25, 27, 30, 30, 30, 31, 34]\n",
      "[0, 0, 0, 4, 5, 7, 10, 10, 10, 10, 10, 15, 15, 15, 15, 19, 20, 22, 25]\n"
     ]
    },
    {
     "data": {
      "image/png": "[encoded data removed]",
      "text/plain": [
       "<matplotlib.figure.Figure at 0x89ec470>"
      ]
     },
     "metadata": {},
     "output_type": "display_data"
    }
   ],
   "source": [
    "print(_profit_array_dynamic)\n",
    "print(_profit_array_greedy)\n",
    "plt.plot(_profit_array_dynamic,label='Dynamic')\n",
    "plt.plot(_profit_array_greedy,label='greedy')\n",
    "plt.xlabel('Length of rod in m')\n",
    "plt.ylabel('Profit')\n",
    "plt.legend()\n",
    "plt.show()\n"
   ]
  },
  {
   "cell_type": "markdown",
   "metadata": {},
   "source": [
    "# Quantifying Results"
   ]
  },
  {
   "cell_type": "code",
   "execution_count": 16,
   "metadata": {},
   "outputs": [
    {
     "name": "stdout",
     "output_type": "stream",
     "text": [
      "('Percentage Improvement Over Greedy : ', [70.0, 100.0, 100.0, 100.0, 110.00000000000001, 60.0, 66.66666666666666, 80.0, 100.0, 57.89473684210527, 50.0, 40.909090909090914, 36.0], '\\n')\n",
      "Assuming We have sufficient demand for all type rods, i.e. Prime,Short length and Scrap\n",
      "('Maximum Average gain in profit only = ', 74.72849957060484, '%')\n",
      "Assuming We do not have sufficient demand for all type rods, i.e. Prime,Short length and Scrap. Customers have preference       of Prime over others. Let this demand efficieny varies from 1 to 10% as maximum customers want Prime rods only.\n",
      "\n",
      "Maximum Average Effective gain in profit only = 4.11006747638 %\n"
     ]
    }
   ],
   "source": [
    "percentage_improvement_over_greedy =[]\n",
    "for i in range(6,19):\n",
    "    diff = _profit_array_dynamic[i]-_profit_array_greedy[i]\n",
    "    \n",
    "    percentage_improvement_over_greedy.append((float(diff)/_profit_array_greedy[i])*100)\n",
    "print('Percentage Improvement Over Greedy : ',percentage_improvement_over_greedy,\"\\n\")\n",
    "print(\"Assuming We have sufficient demand for all type rods, i.e. Prime,Short length and Scrap\")\n",
    "avg=sum(percentage_improvement_over_greedy)/len(percentage_improvement_over_greedy)\n",
    "print(\"Maximum Average gain in profit only = \",avg,\"%\")\n",
    "#----------Probalistic Analysis---------------\n",
    "# let we have demand efficiency varying from 1 to 10%\n",
    "# then avg maximum gain \n",
    "effective_gain=[]\n",
    "for i in range(1,11):\n",
    "    effective_gain.append(i*avg/100)\n",
    "effective_avg=sum(effective_gain)/len(effective_gain)\n",
    "print(\"Assuming We do not have sufficient demand for all type rods, i.e. Prime,Short length and Scrap. Customers have preference \\\n",
    "      of Prime over others. Let this demand efficieny varies from 1 to 10% as maximum customers want Prime rods only.\\n\")\n",
    "\n",
    "print(\"Maximum Average Effective gain in profit only = \"+str(effective_avg)+\" %\")"
   ]
  }
 ],
 "metadata": {
  "kernelspec": {
   "display_name": "Python 2",
   "language": "python",
   "name": "python2"
  },
  "language_info": {
   "codemirror_mode": {
    "name": "ipython",
    "version": 2
   },
   "file_extension": ".py",
   "mimetype": "text/x-python",
   "name": "python",
   "nbconvert_exporter": "python",
   "pygments_lexer": "ipython2",
   "version": "2.7.14"
  }
 },
 "nbformat": 4,
 "nbformat_minor": 2
}
